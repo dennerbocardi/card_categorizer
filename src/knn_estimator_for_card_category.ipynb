{
 "cells": [
  {
   "cell_type": "markdown",
   "metadata": {
    "id": "hf5i4S90j3xy"
   },
   "source": [
    "# KNN Estimator for Banking Segment "
   ]
  },
  {
   "cell_type": "markdown",
   "metadata": {
    "id": "4KRLz8hwkEk2"
   },
   "source": [
    "In most of the banks, the clients are segmented into categories. This classification is made by looking into an amount of demographic data. We need to develop a model to, given the demographic and financial data of one client, the model should determine what segment this client is more fit in. "
   ]
  },
  {
   "cell_type": "markdown",
   "metadata": {
    "id": "ilNqReV0qYk9"
   },
   "source": [
    "# The dataset\n"
   ]
  },
  {
   "cell_type": "markdown",
   "metadata": {
    "id": "iYHsGMr2q2mT"
   },
   "source": [
    "This dataset is from Kaggle. We can access here on this [link](https://www.kaggle.com/datasets/thedevastator/predicting-credit-card-customer-attrition-with-m)\n",
    "\n",
    "\n",
    "\n"
   ]
  },
  {
   "cell_type": "markdown",
   "metadata": {
    "id": "LeJjC_3NreMP"
   },
   "source": [
    "# Importing libreries and the dataset"
   ]
  },
  {
   "cell_type": "code",
   "execution_count": 3,
   "metadata": {
    "colab": {
     "base_uri": "https://localhost:8080/",
     "height": 386
    },
    "id": "ZGWBtnKhkBId",
    "outputId": "045b4325-6038-4403-9a84-cbfc18c8795a"
   },
   "outputs": [],
   "source": [
    "import pandas as pd\n",
    "import numpy as np\n",
    "import matplotlib.pyplot as plt\n",
    "import seaborn as sns"
   ]
  },
  {
   "cell_type": "code",
   "execution_count": 4,
   "metadata": {},
   "outputs": [
    {
     "data": {
      "text/html": [
       "<div>\n",
       "<style scoped>\n",
       "    .dataframe tbody tr th:only-of-type {\n",
       "        vertical-align: middle;\n",
       "    }\n",
       "\n",
       "    .dataframe tbody tr th {\n",
       "        vertical-align: top;\n",
       "    }\n",
       "\n",
       "    .dataframe thead th {\n",
       "        text-align: right;\n",
       "    }\n",
       "</style>\n",
       "<table border=\"1\" class=\"dataframe\">\n",
       "  <thead>\n",
       "    <tr style=\"text-align: right;\">\n",
       "      <th></th>\n",
       "      <th>Unnamed: 0</th>\n",
       "      <th>Customer_Id</th>\n",
       "      <th>Attrition_Flag</th>\n",
       "      <th>Customer_Age</th>\n",
       "      <th>Customer_Gender</th>\n",
       "      <th>Dependent_Count</th>\n",
       "      <th>Education_Level</th>\n",
       "      <th>Marital_Status</th>\n",
       "      <th>Income_Category</th>\n",
       "      <th>Card_Category</th>\n",
       "      <th>...</th>\n",
       "      <th>Total_Trans_Amt</th>\n",
       "      <th>Total_Trans_Ct</th>\n",
       "      <th>Total_Ct_Chng_Q4_Q1</th>\n",
       "      <th>Avg_Utilization_Ratio</th>\n",
       "      <th>N-B_class_1</th>\n",
       "      <th>N-B_class_2</th>\n",
       "      <th>Marital_Status_0</th>\n",
       "      <th>Marital_Status_1</th>\n",
       "      <th>Marital_Status_2</th>\n",
       "      <th>Marital_Status_3</th>\n",
       "    </tr>\n",
       "  </thead>\n",
       "  <tbody>\n",
       "    <tr>\n",
       "      <th>0</th>\n",
       "      <td>0</td>\n",
       "      <td>768805383</td>\n",
       "      <td>Existing Customer</td>\n",
       "      <td>-0.156190</td>\n",
       "      <td>1</td>\n",
       "      <td>0.509985</td>\n",
       "      <td>2</td>\n",
       "      <td>Married</td>\n",
       "      <td>3</td>\n",
       "      <td>1</td>\n",
       "      <td>...</td>\n",
       "      <td>-0.999456</td>\n",
       "      <td>-1.163844</td>\n",
       "      <td>1.625</td>\n",
       "      <td>-0.863732</td>\n",
       "      <td>-0.656780</td>\n",
       "      <td>0.680286</td>\n",
       "      <td>0.0</td>\n",
       "      <td>1.0</td>\n",
       "      <td>0.0</td>\n",
       "      <td>0.0</td>\n",
       "    </tr>\n",
       "    <tr>\n",
       "      <th>1</th>\n",
       "      <td>1</td>\n",
       "      <td>818770008</td>\n",
       "      <td>Existing Customer</td>\n",
       "      <td>0.338818</td>\n",
       "      <td>0</td>\n",
       "      <td>2.044726</td>\n",
       "      <td>4</td>\n",
       "      <td>Single</td>\n",
       "      <td>1</td>\n",
       "      <td>1</td>\n",
       "      <td>...</td>\n",
       "      <td>-0.957606</td>\n",
       "      <td>-1.556554</td>\n",
       "      <td>3.714</td>\n",
       "      <td>-0.702295</td>\n",
       "      <td>-0.917399</td>\n",
       "      <td>0.893754</td>\n",
       "      <td>0.0</td>\n",
       "      <td>0.0</td>\n",
       "      <td>1.0</td>\n",
       "      <td>0.0</td>\n",
       "    </tr>\n",
       "    <tr>\n",
       "      <th>2</th>\n",
       "      <td>2</td>\n",
       "      <td>713982108</td>\n",
       "      <td>Existing Customer</td>\n",
       "      <td>0.586322</td>\n",
       "      <td>1</td>\n",
       "      <td>0.509985</td>\n",
       "      <td>4</td>\n",
       "      <td>Married</td>\n",
       "      <td>4</td>\n",
       "      <td>1</td>\n",
       "      <td>...</td>\n",
       "      <td>-0.787930</td>\n",
       "      <td>-2.123802</td>\n",
       "      <td>2.333</td>\n",
       "      <td>-1.087543</td>\n",
       "      <td>-1.172269</td>\n",
       "      <td>1.178379</td>\n",
       "      <td>0.0</td>\n",
       "      <td>1.0</td>\n",
       "      <td>0.0</td>\n",
       "      <td>0.0</td>\n",
       "    </tr>\n",
       "    <tr>\n",
       "      <th>3</th>\n",
       "      <td>3</td>\n",
       "      <td>769911858</td>\n",
       "      <td>Existing Customer</td>\n",
       "      <td>-0.774949</td>\n",
       "      <td>0</td>\n",
       "      <td>1.277356</td>\n",
       "      <td>2</td>\n",
       "      <td>Unknown</td>\n",
       "      <td>1</td>\n",
       "      <td>1</td>\n",
       "      <td>...</td>\n",
       "      <td>-0.991770</td>\n",
       "      <td>-2.123802</td>\n",
       "      <td>2.333</td>\n",
       "      <td>1.700918</td>\n",
       "      <td>-0.370340</td>\n",
       "      <td>0.395662</td>\n",
       "      <td>0.0</td>\n",
       "      <td>0.0</td>\n",
       "      <td>0.0</td>\n",
       "      <td>1.0</td>\n",
       "    </tr>\n",
       "    <tr>\n",
       "      <th>4</th>\n",
       "      <td>4</td>\n",
       "      <td>709106358</td>\n",
       "      <td>Existing Customer</td>\n",
       "      <td>-0.774949</td>\n",
       "      <td>1</td>\n",
       "      <td>0.509985</td>\n",
       "      <td>1</td>\n",
       "      <td>Married</td>\n",
       "      <td>3</td>\n",
       "      <td>1</td>\n",
       "      <td>...</td>\n",
       "      <td>-1.092835</td>\n",
       "      <td>-1.774727</td>\n",
       "      <td>2.500</td>\n",
       "      <td>-1.087543</td>\n",
       "      <td>-1.168031</td>\n",
       "      <td>1.178379</td>\n",
       "      <td>0.0</td>\n",
       "      <td>1.0</td>\n",
       "      <td>0.0</td>\n",
       "      <td>0.0</td>\n",
       "    </tr>\n",
       "  </tbody>\n",
       "</table>\n",
       "<p>5 rows × 28 columns</p>\n",
       "</div>"
      ],
      "text/plain": [
       "   Unnamed: 0  Customer_Id     Attrition_Flag  Customer_Age  Customer_Gender  \\\n",
       "0           0    768805383  Existing Customer     -0.156190                1   \n",
       "1           1    818770008  Existing Customer      0.338818                0   \n",
       "2           2    713982108  Existing Customer      0.586322                1   \n",
       "3           3    769911858  Existing Customer     -0.774949                0   \n",
       "4           4    709106358  Existing Customer     -0.774949                1   \n",
       "\n",
       "   Dependent_Count  Education_Level Marital_Status  Income_Category  \\\n",
       "0         0.509985                2        Married                3   \n",
       "1         2.044726                4         Single                1   \n",
       "2         0.509985                4        Married                4   \n",
       "3         1.277356                2        Unknown                1   \n",
       "4         0.509985                1        Married                3   \n",
       "\n",
       "   Card_Category  ...  Total_Trans_Amt  Total_Trans_Ct  Total_Ct_Chng_Q4_Q1  \\\n",
       "0              1  ...        -0.999456       -1.163844                1.625   \n",
       "1              1  ...        -0.957606       -1.556554                3.714   \n",
       "2              1  ...        -0.787930       -2.123802                2.333   \n",
       "3              1  ...        -0.991770       -2.123802                2.333   \n",
       "4              1  ...        -1.092835       -1.774727                2.500   \n",
       "\n",
       "   Avg_Utilization_Ratio  N-B_class_1  N-B_class_2  Marital_Status_0  \\\n",
       "0              -0.863732    -0.656780     0.680286               0.0   \n",
       "1              -0.702295    -0.917399     0.893754               0.0   \n",
       "2              -1.087543    -1.172269     1.178379               0.0   \n",
       "3               1.700918    -0.370340     0.395662               0.0   \n",
       "4              -1.087543    -1.168031     1.178379               0.0   \n",
       "\n",
       "   Marital_Status_1  Marital_Status_2  Marital_Status_3  \n",
       "0               1.0               0.0               0.0  \n",
       "1               0.0               1.0               0.0  \n",
       "2               1.0               0.0               0.0  \n",
       "3               0.0               0.0               1.0  \n",
       "4               1.0               0.0               0.0  \n",
       "\n",
       "[5 rows x 28 columns]"
      ]
     },
     "execution_count": 4,
     "metadata": {},
     "output_type": "execute_result"
    }
   ],
   "source": [
    "dataset = pd.read_csv('datasets/preprocessed_dataset.csv')\n",
    "dataset.head()"
   ]
  },
  {
   "cell_type": "markdown",
   "metadata": {},
   "source": [
    "This dataset is already preprocessed in another notebook. So we will bypass the first analysis step and go straight to the model building. "
   ]
  },
  {
   "cell_type": "markdown",
   "metadata": {
    "id": "sdPxa8Ysg63e"
   },
   "source": [
    "# KNN Estimator\n",
    "\n",
    "Now we have our dataset prepared. <br>We can start to develop our KNN Estimator model.<br> First, we will drop the columns we are not using: \"Customer_Id\", \"Attrition_Flag\", and \"Marital_Status\". Then we will separate our features columns from the target column (\"Card_Category\"), and after that, we will split them for train and test. "
   ]
  },
  {
   "cell_type": "code",
   "execution_count": 5,
   "metadata": {
    "colab": {
     "base_uri": "https://localhost:8080/",
     "height": 270
    },
    "id": "JjHVmwxvdvpl",
    "outputId": "313784d8-8a78-4aa7-c4d5-d8c8a5a2f4ef"
   },
   "outputs": [
    {
     "data": {
      "text/html": [
       "<div>\n",
       "<style scoped>\n",
       "    .dataframe tbody tr th:only-of-type {\n",
       "        vertical-align: middle;\n",
       "    }\n",
       "\n",
       "    .dataframe tbody tr th {\n",
       "        vertical-align: top;\n",
       "    }\n",
       "\n",
       "    .dataframe thead th {\n",
       "        text-align: right;\n",
       "    }\n",
       "</style>\n",
       "<table border=\"1\" class=\"dataframe\">\n",
       "  <thead>\n",
       "    <tr style=\"text-align: right;\">\n",
       "      <th></th>\n",
       "      <th>Customer_Age</th>\n",
       "      <th>Customer_Gender</th>\n",
       "      <th>Dependent_Count</th>\n",
       "      <th>Education_Level</th>\n",
       "      <th>Marital_Status_0</th>\n",
       "      <th>Marital_Status_1</th>\n",
       "      <th>Marital_Status_2</th>\n",
       "      <th>Marital_Status_3</th>\n",
       "      <th>Income_Category</th>\n",
       "      <th>Months_on_book</th>\n",
       "      <th>...</th>\n",
       "      <th>Months_Inactive_12_mon</th>\n",
       "      <th>Contacts_Count_12_mon</th>\n",
       "      <th>Credit_Limit</th>\n",
       "      <th>Total_Revolving_Bal</th>\n",
       "      <th>Avg_Open_To_Buy</th>\n",
       "      <th>Total_Trans_Amt</th>\n",
       "      <th>Total_Trans_Ct</th>\n",
       "      <th>Avg_Utilization_Ratio</th>\n",
       "      <th>N-B_class_1</th>\n",
       "      <th>N-B_class_2</th>\n",
       "    </tr>\n",
       "  </thead>\n",
       "  <tbody>\n",
       "    <tr>\n",
       "      <th>0</th>\n",
       "      <td>-0.156190</td>\n",
       "      <td>1</td>\n",
       "      <td>0.509985</td>\n",
       "      <td>2</td>\n",
       "      <td>0.0</td>\n",
       "      <td>1.0</td>\n",
       "      <td>0.0</td>\n",
       "      <td>0.0</td>\n",
       "      <td>3</td>\n",
       "      <td>0.388889</td>\n",
       "      <td>...</td>\n",
       "      <td>-1.252865</td>\n",
       "      <td>0.595213</td>\n",
       "      <td>0.436364</td>\n",
       "      <td>-0.632973</td>\n",
       "      <td>0.489013</td>\n",
       "      <td>-0.999456</td>\n",
       "      <td>-1.163844</td>\n",
       "      <td>-0.863732</td>\n",
       "      <td>-0.656780</td>\n",
       "      <td>0.680286</td>\n",
       "    </tr>\n",
       "    <tr>\n",
       "      <th>1</th>\n",
       "      <td>0.338818</td>\n",
       "      <td>0</td>\n",
       "      <td>2.044726</td>\n",
       "      <td>4</td>\n",
       "      <td>0.0</td>\n",
       "      <td>0.0</td>\n",
       "      <td>1.0</td>\n",
       "      <td>0.0</td>\n",
       "      <td>1</td>\n",
       "      <td>1.012227</td>\n",
       "      <td>...</td>\n",
       "      <td>-1.252865</td>\n",
       "      <td>-0.329538</td>\n",
       "      <td>-0.051833</td>\n",
       "      <td>-0.518152</td>\n",
       "      <td>-0.008614</td>\n",
       "      <td>-0.957606</td>\n",
       "      <td>-1.556554</td>\n",
       "      <td>-0.702295</td>\n",
       "      <td>-0.917399</td>\n",
       "      <td>0.893754</td>\n",
       "    </tr>\n",
       "    <tr>\n",
       "      <th>2</th>\n",
       "      <td>0.586322</td>\n",
       "      <td>1</td>\n",
       "      <td>0.509985</td>\n",
       "      <td>4</td>\n",
       "      <td>0.0</td>\n",
       "      <td>1.0</td>\n",
       "      <td>0.0</td>\n",
       "      <td>0.0</td>\n",
       "      <td>4</td>\n",
       "      <td>0.014887</td>\n",
       "      <td>...</td>\n",
       "      <td>-1.252865</td>\n",
       "      <td>-2.179040</td>\n",
       "      <td>-0.584393</td>\n",
       "      <td>-1.658444</td>\n",
       "      <td>-0.445935</td>\n",
       "      <td>-0.787930</td>\n",
       "      <td>-2.123802</td>\n",
       "      <td>-1.087543</td>\n",
       "      <td>-1.172269</td>\n",
       "      <td>1.178379</td>\n",
       "    </tr>\n",
       "    <tr>\n",
       "      <th>3</th>\n",
       "      <td>-0.774949</td>\n",
       "      <td>0</td>\n",
       "      <td>1.277356</td>\n",
       "      <td>2</td>\n",
       "      <td>0.0</td>\n",
       "      <td>0.0</td>\n",
       "      <td>0.0</td>\n",
       "      <td>1.0</td>\n",
       "      <td>1</td>\n",
       "      <td>-0.234448</td>\n",
       "      <td>...</td>\n",
       "      <td>1.697912</td>\n",
       "      <td>-1.254289</td>\n",
       "      <td>-0.595951</td>\n",
       "      <td>1.663448</td>\n",
       "      <td>-0.734475</td>\n",
       "      <td>-0.991770</td>\n",
       "      <td>-2.123802</td>\n",
       "      <td>1.700918</td>\n",
       "      <td>-0.370340</td>\n",
       "      <td>0.395662</td>\n",
       "    </tr>\n",
       "    <tr>\n",
       "      <th>4</th>\n",
       "      <td>-0.774949</td>\n",
       "      <td>1</td>\n",
       "      <td>0.509985</td>\n",
       "      <td>1</td>\n",
       "      <td>0.0</td>\n",
       "      <td>1.0</td>\n",
       "      <td>0.0</td>\n",
       "      <td>0.0</td>\n",
       "      <td>3</td>\n",
       "      <td>-1.855126</td>\n",
       "      <td>...</td>\n",
       "      <td>-1.252865</td>\n",
       "      <td>-2.179040</td>\n",
       "      <td>-0.441511</td>\n",
       "      <td>-1.658444</td>\n",
       "      <td>-0.303096</td>\n",
       "      <td>-1.092835</td>\n",
       "      <td>-1.774727</td>\n",
       "      <td>-1.087543</td>\n",
       "      <td>-1.168031</td>\n",
       "      <td>1.178379</td>\n",
       "    </tr>\n",
       "  </tbody>\n",
       "</table>\n",
       "<p>5 rows × 21 columns</p>\n",
       "</div>"
      ],
      "text/plain": [
       "   Customer_Age  Customer_Gender  Dependent_Count  Education_Level  \\\n",
       "0     -0.156190                1         0.509985                2   \n",
       "1      0.338818                0         2.044726                4   \n",
       "2      0.586322                1         0.509985                4   \n",
       "3     -0.774949                0         1.277356                2   \n",
       "4     -0.774949                1         0.509985                1   \n",
       "\n",
       "   Marital_Status_0  Marital_Status_1  Marital_Status_2  Marital_Status_3  \\\n",
       "0               0.0               1.0               0.0               0.0   \n",
       "1               0.0               0.0               1.0               0.0   \n",
       "2               0.0               1.0               0.0               0.0   \n",
       "3               0.0               0.0               0.0               1.0   \n",
       "4               0.0               1.0               0.0               0.0   \n",
       "\n",
       "   Income_Category  Months_on_book  ...  Months_Inactive_12_mon  \\\n",
       "0                3        0.388889  ...               -1.252865   \n",
       "1                1        1.012227  ...               -1.252865   \n",
       "2                4        0.014887  ...               -1.252865   \n",
       "3                1       -0.234448  ...                1.697912   \n",
       "4                3       -1.855126  ...               -1.252865   \n",
       "\n",
       "   Contacts_Count_12_mon  Credit_Limit  Total_Revolving_Bal  Avg_Open_To_Buy  \\\n",
       "0               0.595213      0.436364            -0.632973         0.489013   \n",
       "1              -0.329538     -0.051833            -0.518152        -0.008614   \n",
       "2              -2.179040     -0.584393            -1.658444        -0.445935   \n",
       "3              -1.254289     -0.595951             1.663448        -0.734475   \n",
       "4              -2.179040     -0.441511            -1.658444        -0.303096   \n",
       "\n",
       "   Total_Trans_Amt  Total_Trans_Ct  Avg_Utilization_Ratio  N-B_class_1  \\\n",
       "0        -0.999456       -1.163844              -0.863732    -0.656780   \n",
       "1        -0.957606       -1.556554              -0.702295    -0.917399   \n",
       "2        -0.787930       -2.123802              -1.087543    -1.172269   \n",
       "3        -0.991770       -2.123802               1.700918    -0.370340   \n",
       "4        -1.092835       -1.774727              -1.087543    -1.168031   \n",
       "\n",
       "   N-B_class_2  \n",
       "0     0.680286  \n",
       "1     0.893754  \n",
       "2     1.178379  \n",
       "3     0.395662  \n",
       "4     1.178379  \n",
       "\n",
       "[5 rows x 21 columns]"
      ]
     },
     "execution_count": 5,
     "metadata": {},
     "output_type": "execute_result"
    }
   ],
   "source": [
    "features_list = ['Customer_Age',                \n",
    "                 'Customer_Gender',             \n",
    "                 'Dependent_Count',            \n",
    "                 'Education_Level',            \n",
    "                 'Marital_Status_0',\n",
    "                 'Marital_Status_1',\n",
    "                 'Marital_Status_2',\n",
    "                 'Marital_Status_3',         \n",
    "                 'Income_Category',            \n",
    "                 'Months_on_book',             \n",
    "                 'Total_Relationship_Count',   \n",
    "                 'Months_Inactive_12_mon',     \n",
    "                 'Contacts_Count_12_mon',      \n",
    "                 'Credit_Limit',               \n",
    "                 'Total_Revolving_Bal',        \n",
    "                 'Avg_Open_To_Buy',            \n",
    "                 'Total_Trans_Amt',            \n",
    "                 'Total_Trans_Ct',             \n",
    "                 'Avg_Utilization_Ratio',\n",
    "                 'N-B_class_1',\n",
    "                 'N-B_class_2']      \n",
    "            \n",
    "features = dataset[features_list]\n",
    "features.head()"
   ]
  },
  {
   "cell_type": "code",
   "execution_count": 6,
   "metadata": {
    "id": "-GSu_CkOIOZS"
   },
   "outputs": [],
   "source": [
    "target = dataset['Card_Category']"
   ]
  },
  {
   "cell_type": "markdown",
   "metadata": {
    "id": "DSyN7RPRMMcl"
   },
   "source": [
    "Now we are doing the train/test split"
   ]
  },
  {
   "cell_type": "code",
   "execution_count": 7,
   "metadata": {
    "id": "FeRYgx7WiPxS"
   },
   "outputs": [],
   "source": [
    "from sklearn.model_selection import train_test_split\n",
    "\n",
    "x_train, x_test, y_train, y_test = train_test_split(features, target, test_size = 0.20, random_state=42)"
   ]
  },
  {
   "cell_type": "markdown",
   "metadata": {
    "id": "uDn1hjKMA4m5"
   },
   "source": [
    "Once we had the train/test split we need to find the best K to set the number of neighbors for the KNN estimator. I will test 30 values of K. "
   ]
  },
  {
   "cell_type": "code",
   "execution_count": 8,
   "metadata": {
    "colab": {
     "base_uri": "https://localhost:8080/"
    },
    "id": "gbuDI16OM4oz",
    "outputId": "15520e30-0792-43a1-971f-9ab0b29875f6"
   },
   "outputs": [
    {
     "name": "stdout",
     "output_type": "stream",
     "text": [
      "K: 1\n",
      "Score: 0.9214705882352942\n",
      "Best score:  0.9214705882352942\n",
      "Best K:  1\n",
      "K: 2\n",
      "Score: 0.9335294117647059\n",
      "Best score:  0.9335294117647059\n",
      "Best K:  2\n",
      "K: 3\n",
      "Score: 0.9322058823529412\n",
      "Best score:  0.9335294117647059\n",
      "Best K:  2\n",
      "K: 4\n",
      "Score: 0.9330882352941178\n",
      "Best score:  0.9335294117647059\n",
      "Best K:  2\n",
      "K: 5\n",
      "Score: 0.9324999999999999\n",
      "Best score:  0.9335294117647059\n",
      "Best K:  2\n",
      "K: 6\n",
      "Score: 0.9338235294117647\n",
      "Best score:  0.9338235294117647\n",
      "Best K:  6\n",
      "K: 7\n",
      "Score: 0.9327941176470589\n",
      "Best score:  0.9338235294117647\n",
      "Best K:  6\n",
      "K: 8\n",
      "Score: 0.9341176470588236\n",
      "Best score:  0.9341176470588236\n",
      "Best K:  8\n",
      "K: 9\n",
      "Score: 0.9344117647058823\n",
      "Best score:  0.9344117647058823\n",
      "Best K:  9\n",
      "K: 10\n",
      "Score: 0.9342647058823529\n",
      "Best score:  0.9344117647058823\n",
      "Best K:  9\n",
      "K: 11\n",
      "Score: 0.9339705882352941\n",
      "Best score:  0.9344117647058823\n",
      "Best K:  9\n",
      "K: 12\n",
      "Score: 0.9344117647058823\n",
      "Best score:  0.9344117647058823\n",
      "Best K:  9\n",
      "K: 13\n",
      "Score: 0.9348529411764706\n",
      "Best score:  0.9348529411764706\n",
      "Best K:  13\n",
      "K: 14\n",
      "Score: 0.934264705882353\n",
      "Best score:  0.9348529411764706\n",
      "Best K:  13\n",
      "K: 15\n",
      "Score: 0.934264705882353\n",
      "Best score:  0.9348529411764706\n",
      "Best K:  13\n",
      "K: 16\n",
      "Score: 0.9349999999999999\n",
      "Best score:  0.9349999999999999\n",
      "Best K:  16\n",
      "K: 17\n",
      "Score: 0.9351470588235294\n",
      "Best score:  0.9351470588235294\n",
      "Best K:  17\n",
      "K: 18\n",
      "Score: 0.9347058823529413\n",
      "Best score:  0.9351470588235294\n",
      "Best K:  17\n",
      "K: 19\n",
      "Score: 0.9339705882352941\n",
      "Best score:  0.9351470588235294\n",
      "Best K:  17\n",
      "K: 20\n",
      "Score: 0.9344117647058823\n",
      "Best score:  0.9351470588235294\n",
      "Best K:  17\n",
      "K: 21\n",
      "Score: 0.9339705882352941\n",
      "Best score:  0.9351470588235294\n",
      "Best K:  17\n",
      "K: 22\n",
      "Score: 0.9330882352941178\n",
      "Best score:  0.9351470588235294\n",
      "Best K:  17\n",
      "K: 23\n",
      "Score: 0.9339705882352941\n",
      "Best score:  0.9351470588235294\n",
      "Best K:  17\n",
      "K: 24\n",
      "Score: 0.9339705882352941\n",
      "Best score:  0.9351470588235294\n",
      "Best K:  17\n",
      "K: 25\n",
      "Score: 0.934264705882353\n",
      "Best score:  0.9351470588235294\n",
      "Best K:  17\n",
      "K: 26\n",
      "Score: 0.9335294117647059\n",
      "Best score:  0.9351470588235294\n",
      "Best K:  17\n",
      "K: 27\n",
      "Score: 0.9338235294117647\n",
      "Best score:  0.9351470588235294\n",
      "Best K:  17\n",
      "K: 28\n",
      "Score: 0.9338235294117648\n",
      "Best score:  0.9351470588235294\n",
      "Best K:  17\n",
      "K: 29\n",
      "Score: 0.9336764705882354\n",
      "Best score:  0.9351470588235294\n",
      "Best K:  17\n",
      "K: 30\n",
      "Score: 0.9333823529411767\n",
      "Best score:  0.9351470588235294\n",
      "Best K:  17\n"
     ]
    }
   ],
   "source": [
    "from sklearn.neighbors import KNeighborsClassifier\n",
    "from sklearn.model_selection import cross_val_score\n",
    "\n",
    "final_score = []\n",
    "best_score = 0\n",
    "best_k = 0\n",
    "\n",
    "for k in range(1,31):\n",
    "  knn = KNeighborsClassifier(n_neighbors = k)\n",
    "  scores = cross_val_score(knn, x_train, y_train)\n",
    "\n",
    "  mScore = np.mean(scores)\n",
    "  final_score.append(mScore)\n",
    "\n",
    "  print('K:', k)\n",
    "  print('Score:', mScore)\n",
    "\n",
    "  if mScore > best_score:\n",
    "    best_score = mScore\n",
    "    best_k = k\n",
    "\n",
    "  print('Best score: ', best_score)\n",
    "  print('Best K: ', best_k)"
   ]
  },
  {
   "cell_type": "code",
   "execution_count": 9,
   "metadata": {},
   "outputs": [
    {
     "name": "stdout",
     "output_type": "stream",
     "text": [
      "Best score:  0.9351470588235294\n",
      "Best K:  17\n"
     ]
    }
   ],
   "source": [
    "print('Best score: ', best_score)\n",
    "print('Best K: ', best_k)"
   ]
  },
  {
   "cell_type": "code",
   "execution_count": 10,
   "metadata": {
    "colab": {
     "base_uri": "https://localhost:8080/",
     "height": 337
    },
    "id": "xOIQZEBC8rhN",
    "outputId": "365ec622-3404-4cc4-db1f-b3b9115edde9"
   },
   "outputs": [
    {
     "data": {
      "image/png": "[encoded data removed]",
      "text/plain": [
       "<Figure size 640x480 with 1 Axes>"
      ]
     },
     "metadata": {},
     "output_type": "display_data"
    }
   ],
   "source": [
    "sns.scatterplot(x=range(1,31),y=final_score)\n",
    "plt.xlabel(\"K value\")\n",
    "plt.ylabel(\"Accuracy\")\n",
    "plt.title(\"Performance by K-Nearest Neighors\")\n",
    "plt.grid(True)\n",
    "plt.show()"
   ]
  },
  {
   "cell_type": "markdown",
   "metadata": {
    "id": "YeFtrGqZBHaO"
   },
   "source": [
    "As we can see the best K is 17. So we will fit our model to 17-Nearest Neighors"
   ]
  },
  {
   "cell_type": "code",
   "execution_count": 11,
   "metadata": {
    "id": "Xe3JqJ7q9LPO"
   },
   "outputs": [],
   "source": [
    "knn = KNeighborsClassifier(n_neighbors = 17)\n",
    "\n",
    "knn.fit(x_train, y_train)\n",
    "\n",
    "pred = knn.predict(x_test)"
   ]
  },
  {
   "cell_type": "markdown",
   "metadata": {
    "id": "jDz6NPwCBdvF"
   },
   "source": [
    "# Accuracy\n",
    "\n",
    "Now I will use the accuracy_score to see how accurate our model is. "
   ]
  },
  {
   "cell_type": "code",
   "execution_count": 12,
   "metadata": {
    "id": "GWMHSQJL-L_W"
   },
   "outputs": [],
   "source": [
    "from sklearn.metrics import accuracy_score"
   ]
  },
  {
   "cell_type": "code",
   "execution_count": 13,
   "metadata": {
    "colab": {
     "base_uri": "https://localhost:8080/"
    },
    "id": "-Ng6lzxe-mI4",
    "outputId": "c645b1df-5275-495b-bff4-fabfe23ea82d"
   },
   "outputs": [
    {
     "name": "stdout",
     "output_type": "stream",
     "text": [
      "The accuracy of the model is: 0.941\n"
     ]
    }
   ],
   "source": [
    "acc = accuracy_score(y_test, pred)\n",
    "print(f'The accuracy of the model is: {round(acc,3)}')"
   ]
  },
  {
   "cell_type": "markdown",
   "metadata": {
    "id": "YWZRpS7FBrDA"
   },
   "source": [
    "We have a highly accurate model. This is great, but not all. As you can remember our target categories are not balanced. We have a lot of people categorized as 'Blue' and just a little group of people categorized as 'Platinum'. In fact, we have 93% of clients in the \"Blue\" category, i.e., if our model sets everyone to the 'Blue' category it will have a 93% accuracy. But when we look at the other categories our model will perform pretty badly, for the accuracy for the other categories will be 0% in this case. \n",
    "To have a better notion on how our model perform in all categories we ca use a Confusion Matrix.  "
   ]
  },
  {
   "cell_type": "markdown",
   "metadata": {
    "id": "awATWL5pD95H"
   },
   "source": [
    "# Confusion Matrix\n",
    "\n",
    "A Confusion Matrix, also known as Error Matrix, is a specific table layout that allows visualization of the performance of an algorithm."
   ]
  },
  {
   "cell_type": "code",
   "execution_count": 14,
   "metadata": {},
   "outputs": [
    {
     "data": {
      "image/png": "[encoded data removed]",
      "text/plain": [
       "<Figure size 640x480 with 2 Axes>"
      ]
     },
     "metadata": {},
     "output_type": "display_data"
    }
   ],
   "source": [
    "from sklearn.metrics import confusion_matrix, ConfusionMatrixDisplay\n",
    "confusion_matrix = confusion_matrix(y_pred=pred, y_true=y_test)\n",
    "cm_display = ConfusionMatrixDisplay(confusion_matrix = confusion_matrix, display_labels = ['Blue', 'Silver', 'Gold', 'Platinum'])\n",
    "\n",
    "cm_display.plot()\n",
    "plt.show()"
   ]
  },
  {
   "cell_type": "markdown",
   "metadata": {
    "id": "EHNAPc2KJDG7"
   },
   "source": [
    "As we imaginated, and confirmed by the confusion matrix, our model sets a lot of people to the 'Blue' category.<br> This makes our model highly accurate, but only for one category, for other categories our accuracy is low, and is 0% on 'Platinum' category. <br>\n"
   ]
  },
  {
   "cell_type": "markdown",
   "metadata": {},
   "source": [
    "# Balanced Accuracy"
   ]
  },
  {
   "cell_type": "markdown",
   "metadata": {},
   "source": [
    "We already saw that our model looked like it was doing a great job, but when we had a deeper look at it, this job was not so great.<br>\n",
    "This happens because our dataset is unbalanced, and the accuracy metric is sensible to the balance of the datasets. So we have one different accuracy metric to use on unbalanced datasets. The name, obviously, *'balanced_accuracy'*. We will test to see how the accuracy and the balanced accuracy are different on this case. "
   ]
  },
  {
   "cell_type": "code",
   "execution_count": 18,
   "metadata": {},
   "outputs": [
    {
     "name": "stdout",
     "output_type": "stream",
     "text": [
      "The accuracy of the model is: 0.284\n"
     ]
    }
   ],
   "source": [
    "from sklearn.metrics import balanced_accuracy_score\n",
    "\n",
    "bacc = balanced_accuracy_score(y_test,pred)\n",
    "print(f'The accuracy of the model is: {round(bacc,3)}')\n"
   ]
  },
  {
   "cell_type": "markdown",
   "metadata": {},
   "source": [
    "As we expected, the balaced accuracy is 28% realy lower than the 94% of the accuray unbaleced."
   ]
  },
  {
   "cell_type": "markdown",
   "metadata": {},
   "source": [
    "Now, I want to see if ther is another K value that imporve our balanced accuracy, so lets check. "
   ]
  },
  {
   "cell_type": "code",
   "execution_count": 21,
   "metadata": {},
   "outputs": [
    {
     "name": "stdout",
     "output_type": "stream",
     "text": [
      "K: 1\n",
      "Score: 0.35200005911435767\n",
      "Best score:  0.35200005911435767\n",
      "Best K:  1\n",
      "K: 2\n",
      "Score: 0.2953011549934913\n",
      "Best score:  0.35200005911435767\n",
      "Best K:  1\n",
      "K: 3\n",
      "Score: 0.31782585896160515\n",
      "Best score:  0.35200005911435767\n",
      "Best K:  1\n",
      "K: 4\n",
      "Score: 0.2951890424985811\n",
      "Best score:  0.35200005911435767\n",
      "Best K:  1\n",
      "K: 5\n",
      "Score: 0.3024517741455243\n",
      "Best score:  0.35200005911435767\n",
      "Best K:  1\n",
      "K: 6\n",
      "Score: 0.2910643336747917\n",
      "Best score:  0.35200005911435767\n",
      "Best K:  1\n",
      "K: 7\n",
      "Score: 0.2895508533007584\n",
      "Best score:  0.35200005911435767\n",
      "Best K:  1\n",
      "K: 8\n",
      "Score: 0.2849595072812128\n",
      "Best score:  0.35200005911435767\n",
      "Best K:  1\n",
      "K: 9\n",
      "Score: 0.288748772935467\n",
      "Best score:  0.35200005911435767\n",
      "Best K:  1\n",
      "K: 10\n",
      "Score: 0.2837621387779998\n",
      "Best score:  0.35200005911435767\n",
      "Best K:  1\n",
      "K: 11\n",
      "Score: 0.2818278865963966\n",
      "Best score:  0.35200005911435767\n",
      "Best K:  1\n",
      "K: 12\n",
      "Score: 0.28009132531514236\n",
      "Best score:  0.35200005911435767\n",
      "Best K:  1\n",
      "K: 13\n",
      "Score: 0.2802098399483901\n",
      "Best score:  0.35200005911435767\n",
      "Best K:  1\n",
      "K: 14\n",
      "Score: 0.2775782297800963\n",
      "Best score:  0.35200005911435767\n",
      "Best K:  1\n",
      "K: 15\n",
      "Score: 0.2769598295140282\n",
      "Best score:  0.35200005911435767\n",
      "Best K:  1\n",
      "K: 16\n",
      "Score: 0.27963096537402177\n",
      "Best score:  0.35200005911435767\n",
      "Best K:  1\n",
      "K: 17\n",
      "Score: 0.2778153214884428\n",
      "Best score:  0.35200005911435767\n",
      "Best K:  1\n",
      "K: 18\n",
      "Score: 0.275841606056991\n",
      "Best score:  0.35200005911435767\n",
      "Best K:  1\n",
      "K: 19\n",
      "Score: 0.2725521323727805\n",
      "Best score:  0.35200005911435767\n",
      "Best K:  1\n",
      "K: 20\n",
      "Score: 0.2751442480703003\n",
      "Best score:  0.35200005911435767\n",
      "Best K:  1\n",
      "K: 21\n",
      "Score: 0.273788901683991\n",
      "Best score:  0.35200005911435767\n",
      "Best K:  1\n",
      "K: 22\n",
      "Score: 0.2704599023080808\n",
      "Best score:  0.35200005911435767\n",
      "Best K:  1\n",
      "K: 23\n",
      "Score: 0.2719337945485635\n",
      "Best score:  0.35200005911435767\n",
      "Best K:  1\n",
      "K: 24\n",
      "Score: 0.2700785937503595\n",
      "Best score:  0.35200005911435767\n",
      "Best K:  1\n",
      "K: 25\n",
      "Score: 0.2707760141789011\n",
      "Best score:  0.35200005911435767\n",
      "Best K:  1\n",
      "K: 26\n",
      "Score: 0.2681049095398331\n",
      "Best score:  0.35200005911435767\n",
      "Best K:  1\n",
      "K: 27\n",
      "Score: 0.27003906805865985\n",
      "Best score:  0.35200005911435767\n",
      "Best K:  1\n",
      "K: 28\n",
      "Score: 0.26942073023444285\n",
      "Best score:  0.35200005911435767\n",
      "Best K:  1\n",
      "K: 29\n",
      "Score: 0.2687628042766752\n",
      "Best score:  0.35200005911435767\n",
      "Best K:  1\n",
      "K: 30\n",
      "Score: 0.26744704602391656\n",
      "Best score:  0.35200005911435767\n",
      "Best K:  1\n"
     ]
    }
   ],
   "source": [
    "from sklearn.neighbors import KNeighborsClassifier\n",
    "from sklearn.model_selection import cross_val_score\n",
    "\n",
    "final_score = []\n",
    "best_score = 0\n",
    "best_k = 0\n",
    "\n",
    "for k in range(1,31):\n",
    "  knn = KNeighborsClassifier(n_neighbors = k)\n",
    "  scores = cross_val_score(knn, x_train, y_train, scoring='balanced_accuracy')\n",
    "\n",
    "  mScore = np.mean(scores)\n",
    "  final_score.append(mScore)\n",
    "\n",
    "  print('K:', k)\n",
    "  print('Score:', mScore)\n",
    "\n",
    "  if mScore > best_score:\n",
    "    best_score = mScore\n",
    "    best_k = k\n",
    "\n",
    "  print('Best score: ', best_score)\n",
    "  print('Best K: ', best_k)"
   ]
  },
  {
   "cell_type": "code",
   "execution_count": 22,
   "metadata": {},
   "outputs": [
    {
     "data": {
      "image/png": "[encoded data removed]",
      "text/plain": [
       "<Figure size 640x480 with 1 Axes>"
      ]
     },
     "metadata": {},
     "output_type": "display_data"
    }
   ],
   "source": [
    "sns.scatterplot(x=range(1,31),y=final_score)\n",
    "plt.xlabel(\"K value\")\n",
    "plt.ylabel(\"Accuracy\")\n",
    "plt.title(\"Performance by K-Nearest Neighors\")\n",
    "plt.grid(True)\n",
    "plt.show()"
   ]
  },
  {
   "cell_type": "markdown",
   "metadata": {},
   "source": [
    "There is an intresting fact: the higher value of K the less accurate the model is.<br>\n",
    "This happens because, the greater the neighborhood of a point, the greater the chance of having several people classified as the 'Blue' category, and in this case the model interprets that that point should also be in the 'Blue' category, making the classification wrong."
   ]
  },
  {
   "cell_type": "markdown",
   "metadata": {},
   "source": [
    "\n",
    "Therefore, when we have very unbalanced data and a non-binary classification, a KNN model may not be the best one to use."
   ]
  },
  {
   "cell_type": "markdown",
   "metadata": {},
   "source": [
    "\n",
    "Let's try another approach to our model. "
   ]
  },
  {
   "cell_type": "markdown",
   "metadata": {},
   "source": [
    "Follow me to see other approaches when I update the project."
   ]
  },
  {
   "cell_type": "markdown",
   "metadata": {},
   "source": [
    "# Thank you!"
   ]
  },
  {
   "cell_type": "markdown",
   "metadata": {},
   "source": []
  }
 ],
 "metadata": {
  "colab": {
   "provenance": []
  },
  "kernelspec": {
   "display_name": "Python 3 (ipykernel)",
   "language": "python",
   "name": "python3"
  },
  "language_info": {
   "codemirror_mode": {
    "name": "ipython",
    "version": 3
   },
   "file_extension": ".py",
   "mimetype": "text/x-python",
   "name": "python",
   "nbconvert_exporter": "python",
   "pygments_lexer": "ipython3",
   "version": "3.11.3"
  }
 },
 "nbformat": 4,
 "nbformat_minor": 1
}
